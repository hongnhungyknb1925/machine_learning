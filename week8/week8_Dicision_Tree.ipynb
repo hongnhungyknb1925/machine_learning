{
  "nbformat": 4,
  "nbformat_minor": 0,
  "metadata": {
    "colab": {
      "name": "week8-Dicision Tree.ipynb",
      "provenance": []
    },
    "kernelspec": {
      "name": "python3",
      "display_name": "Python 3"
    },
    "language_info": {
      "name": "python"
    }
  },
  "cells": [
    {
      "cell_type": "markdown",
      "metadata": {
        "id": "TD1CXDxctzNc"
      },
      "source": [
        "1. Code hàm tìm ra ngưỡng chia tốt nhất cho 1 node với data sample\n",
        "\n",
        "2. Code hàm xây dựng model với data sample\n",
        "\n",
        "3. Vẽ decision boundary cho data sample với model trên\n"
      ]
    },
    {
      "cell_type": "code",
      "metadata": {
        "id": "X71Hnajatq_s"
      },
      "source": [
        "import numpy as np \n",
        "import pandas as pd\n",
        "import matplotlib.pyplot as plt "
      ],
      "execution_count": 105,
      "outputs": []
    },
    {
      "cell_type": "code",
      "metadata": {
        "id": "6TfEW4Ij-q19"
      },
      "source": [
        "X = np.array([[1, 3], [2, 2], [3, 2], [4, 1], [4, 2], \n",
        "              [2, 6], [4, 6], [3, 7], [2, 8], [1, 9],\n",
        "              [8, 6], [9, 7], [7, 9], [10, 6], [8, 9],\n",
        "              [8, 4], [9, 1], [10, 3], [8, 3], [9, 3]])\n",
        "y = np.ones(20)\n",
        "y[:5] = 0 "
      ],
      "execution_count": 106,
      "outputs": []
    },
    {
      "cell_type": "code",
      "metadata": {
        "colab": {
          "base_uri": "https://localhost:8080/",
          "height": 282
        },
        "id": "UvKeDzzc_dC-",
        "outputId": "692fbd0c-e0f2-45f5-bcd7-1b8d288bcad7"
      },
      "source": [
        "plt.scatter(X[:, 0], X[:, 1], c = y )"
      ],
      "execution_count": 107,
      "outputs": [
        {
          "output_type": "execute_result",
          "data": {
            "text/plain": [
              "<matplotlib.collections.PathCollection at 0x7f7fefa99690>"
            ]
          },
          "metadata": {},
          "execution_count": 107
        },
        {
          "output_type": "display_data",
          "data": {
            "image/png": "[encoded data removed]",
            "text/plain": [
              "<Figure size 432x288 with 1 Axes>"
            ]
          },
          "metadata": {
            "needs_background": "light"
          }
        }
      ]
    },
    {
      "cell_type": "code",
      "metadata": {
        "colab": {
          "base_uri": "https://localhost:8080/",
          "height": 206
        },
        "id": "qB12SSJEeqX-",
        "outputId": "3617dc94-bfb3-4f34-cf8d-fc27105fc964"
      },
      "source": [
        "data = pd.read_csv(\"https://raw.githubusercontent.com/nttuan8/DL_Tutorial/master/L2/dataset.csv\")\n",
        "data.head(n = 5)"
      ],
      "execution_count": 108,
      "outputs": [
        {
          "output_type": "execute_result",
          "data": {
            "text/html": [
              "<div>\n",
              "<style scoped>\n",
              "    .dataframe tbody tr th:only-of-type {\n",
              "        vertical-align: middle;\n",
              "    }\n",
              "\n",
              "    .dataframe tbody tr th {\n",
              "        vertical-align: top;\n",
              "    }\n",
              "\n",
              "    .dataframe thead th {\n",
              "        text-align: right;\n",
              "    }\n",
              "</style>\n",
              "<table border=\"1\" class=\"dataframe\">\n",
              "  <thead>\n",
              "    <tr style=\"text-align: right;\">\n",
              "      <th></th>\n",
              "      <th>Lương</th>\n",
              "      <th>Thời gian làm việc</th>\n",
              "      <th>Cho vay</th>\n",
              "    </tr>\n",
              "  </thead>\n",
              "  <tbody>\n",
              "    <tr>\n",
              "      <th>0</th>\n",
              "      <td>10</td>\n",
              "      <td>1.0</td>\n",
              "      <td>1</td>\n",
              "    </tr>\n",
              "    <tr>\n",
              "      <th>1</th>\n",
              "      <td>5</td>\n",
              "      <td>2.0</td>\n",
              "      <td>1</td>\n",
              "    </tr>\n",
              "    <tr>\n",
              "      <th>2</th>\n",
              "      <td>6</td>\n",
              "      <td>1.8</td>\n",
              "      <td>1</td>\n",
              "    </tr>\n",
              "    <tr>\n",
              "      <th>3</th>\n",
              "      <td>7</td>\n",
              "      <td>1.0</td>\n",
              "      <td>1</td>\n",
              "    </tr>\n",
              "    <tr>\n",
              "      <th>4</th>\n",
              "      <td>8</td>\n",
              "      <td>2.0</td>\n",
              "      <td>1</td>\n",
              "    </tr>\n",
              "  </tbody>\n",
              "</table>\n",
              "</div>"
            ],
            "text/plain": [
              "   Lương  Thời gian làm việc  Cho vay\n",
              "0     10                 1.0        1\n",
              "1      5                 2.0        1\n",
              "2      6                 1.8        1\n",
              "3      7                 1.0        1\n",
              "4      8                 2.0        1"
            ]
          },
          "metadata": {},
          "execution_count": 108
        }
      ]
    },
    {
      "cell_type": "code",
      "metadata": {
        "colab": {
          "base_uri": "https://localhost:8080/"
        },
        "id": "6jqoZ6aOfAdW",
        "outputId": "c064fdff-2d37-4359-b4cf-37e642c113ae"
      },
      "source": [
        "data = data.rename(columns = {\"Thời gian làm việc\":\"time\", \"Lương\":\"wage\",\"Cho vay\": 'accept'},inplace=False)\n",
        "data.head(n = 4 )\n",
        "data.shape"
      ],
      "execution_count": 109,
      "outputs": [
        {
          "output_type": "execute_result",
          "data": {
            "text/plain": [
              "(20, 3)"
            ]
          },
          "metadata": {},
          "execution_count": 109
        }
      ]
    },
    {
      "cell_type": "code",
      "metadata": {
        "colab": {
          "base_uri": "https://localhost:8080/",
          "height": 282
        },
        "id": "xjBsmvakhyY0",
        "outputId": "fa000383-5738-4ebd-9b50-4375ceb3aac1"
      },
      "source": [
        "plt.scatter(data.wage, data.time, c = data.accept )"
      ],
      "execution_count": 110,
      "outputs": [
        {
          "output_type": "execute_result",
          "data": {
            "text/plain": [
              "<matplotlib.collections.PathCollection at 0x7f7fef9bde10>"
            ]
          },
          "metadata": {},
          "execution_count": 110
        },
        {
          "output_type": "display_data",
          "data": {
            "image/png": "[encoded data removed]",
            "text/plain": [
              "<Figure size 432x288 with 1 Axes>"
            ]
          },
          "metadata": {
            "needs_background": "light"
          }
        }
      ]
    },
    {
      "cell_type": "code",
      "metadata": {
        "id": "Dj1v5b3CLAaH"
      },
      "source": [
        "def gini_score(n1,n2):\n",
        "  if n1 + n2 == 0 :\n",
        "    return 1 \n",
        "  return 1 - (n1/(n1+n2))**2 - (n2/(n1+n2))**2\n",
        "# 1. Code hàm tìm ra ngưỡng chia tốt nhất cho 1 node với data sample\n",
        "def gini_index(g_parent, n1, g1, n2, g2): \n",
        "  return g_parent- (n1/(n1+n2))*g1 - (n2/(n1+n2))*g2\n",
        "\n",
        "def divided_x(data, gini_index_start,g_parent, start, end):\n",
        "  list1 = {}\n",
        "  n0g1 = n1g1  = n0g2  = n1g2 = 0 \n",
        "  for i in range(start, end): \n",
        "    n0g1 = len(data[(data['wage'] >= i) & (data['accept'] == 1)]) \n",
        "    n1g1 = len(data[(data['wage'] >= i) & (data['accept'] == 0)])\n",
        "    n0g2 = len(data[(data['wage'] < i) & (data['accept'] == 1)])\n",
        "    n1g2 = len(data[(data['wage'] < i) & (data['accept'] == 0)])\n",
        "    g1 = gini_score(n0g1,n1g1)\n",
        "    g2 = gini_score(n0g2, n1g2)\n",
        "    gini_index_new  = gini_index(g_parent, n0g1+ n1g1, g1, n0g2+n1g2, g2)\n",
        "    if gini_index_new > gini_index_start:\n",
        "      # print(i, gini_index_start, gini_index_new)\n",
        "      gini_index_start = gini_index_new\n",
        "    elif (gini_index_new < gini_index_start) and (gini_index_new > 0 ): \n",
        "      return i - 1\n",
        "  return None\n",
        "def divided_y(data, gini_index_start,g_parent, start, end):\n",
        "  list1 = {}\n",
        "  n0g1 = n1g1  = n0g2  = n1g2 = 0 \n",
        "  for i in np.arange(start, end, 0.5): \n",
        "    n0g1 = len(data[(data['time'] >= i) & (data['accept'] == 1)]) \n",
        "    n1g1 = len(data[(data['time'] >= i) & (data['accept'] == 0)])\n",
        "    n0g2 = len(data[(data['time'] < i) & (data['accept'] == 1)])\n",
        "    n1g2 = len(data[(data['time'] < i) & (data['accept'] == 0)])\n",
        "    g1 = gini_score(n0g1,n1g1)\n",
        "    g2 = gini_score(n0g2, n1g2)\n",
        "    gini_index_new  = gini_index(g_parent, n0g1+ n1g1, g1, n0g2+n1g2, g2)\n",
        "    if gini_index_new > gini_index_start:\n",
        "      # print(i, gini_index_start, gini_index_new)\n",
        "      gini_index_start = gini_index_new\n",
        "    elif (gini_index_new < gini_index_start) and (gini_index_new > 0 ): \n",
        "      return i - 0.5 \n",
        "      # print(i, gini_index_start, gini_index_new)\n",
        "      \n",
        "  return None"
      ],
      "execution_count": 116,
      "outputs": []
    },
    {
      "cell_type": "code",
      "metadata": {
        "colab": {
          "base_uri": "https://localhost:8080/"
        },
        "id": "xNkpCDXl6I_j",
        "outputId": "fa8d1c56-d737-44e5-fd08-e0f4700f4418"
      },
      "source": [
        "g_parent = gini_score(10,10)\n",
        "n0g1 = 0 \n",
        "n1g1 = 0 \n",
        "n0g2 = 0 \n",
        "n1g2 = 0 \n",
        "i = 4 \n",
        "n0g1 = len(data[(data['wage'] >= 4) & (data['accept'] == 1)]) \n",
        "n1g1 = len(data[(data['wage'] >= 4) & (data['accept'] == 0)])\n",
        "n0g2 = len(data[(data['wage'] < 4) & (data['accept'] == 1)])\n",
        "n1g2 = len(data[(data['wage'] < 4) & (data['accept'] == 0)])\n",
        "g1 = gini_score(n0g1,n1g1)\n",
        "g2 = gini_score(n0g2, n1g2)\n",
        "gini_index_start  = gini_index(g_parent, n0g1+ n1g1, g1, n0g2+n1g2, g2)\n",
        "\n",
        "i = divided_x(data, gini_index_start, g_parent,5 , 11)\n",
        "j = divided_y(data, gini_index_start, g_parent, 0, 3 )\n",
        "print(i,j)"
      ],
      "execution_count": 117,
      "outputs": [
        {
          "output_type": "stream",
          "name": "stdout",
          "text": [
            "9 1.0\n"
          ]
        }
      ]
    },
    {
      "cell_type": "code",
      "metadata": {
        "colab": {
          "base_uri": "https://localhost:8080/",
          "height": 282
        },
        "id": "MgA2NbgdiuTc",
        "outputId": "1cdf043b-406e-47ec-9c12-3b4de8b14294"
      },
      "source": [
        "plt.scatter(data.wage, data.time, c = data.accept )\n",
        "plt.axhline(j, color=\"red\", linestyle=\"--\")\n",
        "plt.axvline(i, color=\"red\", linestyle=\"--\")\n",
        "plt.show"
      ],
      "execution_count": 119,
      "outputs": [
        {
          "output_type": "execute_result",
          "data": {
            "text/plain": [
              "<function matplotlib.pyplot.show>"
            ]
          },
          "metadata": {},
          "execution_count": 119
        },
        {
          "output_type": "display_data",
          "data": {
            "image/png": "[encoded data removed]",
            "text/plain": [
              "<Figure size 432x288 with 1 Axes>"
            ]
          },
          "metadata": {
            "needs_background": "light"
          }
        }
      ]
    }
  ]
}