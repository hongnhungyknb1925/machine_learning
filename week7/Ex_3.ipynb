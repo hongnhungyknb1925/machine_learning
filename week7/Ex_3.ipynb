{
  "nbformat": 4,
  "nbformat_minor": 0,
  "metadata": {
    "colab": {
      "name": "Ex_3.ipynb",
      "provenance": [],
      "collapsed_sections": []
    },
    "kernelspec": {
      "name": "python3",
      "display_name": "Python 3"
    },
    "language_info": {
      "name": "python"
    }
  },
  "cells": [
    {
      "cell_type": "markdown",
      "metadata": {
        "id": "Ez1qm3nMs2zl"
      },
      "source": [
        "Dùng thuật toán gradient descent tối ưu hàm f(x) = x^2, với giá trị khởi tạo x = 2 và thử các learning rate khác nhau (0.2, 1, 2), vẽ đồ thị hàm loss để hiện sự thay đổi hàm f(x) sau các bước update."
      ]
    },
    {
      "cell_type": "code",
      "metadata": {
        "id": "JPldGWKBqRi2"
      },
      "source": [
        "# learning rate = (0.2 , 1, 2 )"
      ],
      "execution_count": null,
      "outputs": []
    },
    {
      "cell_type": "code",
      "metadata": {
        "id": "00i6l01N6K3S"
      },
      "source": [
        "import numpy as np \n",
        "import pandas as pd \n",
        "import matplotlib.pyplot as plt\n",
        "import math"
      ],
      "execution_count": 3,
      "outputs": []
    },
    {
      "cell_type": "code",
      "metadata": {
        "colab": {
          "base_uri": "https://localhost:8080/",
          "height": 265
        },
        "id": "fGE6txSf4hbU",
        "outputId": "f8877604-38bf-4ff4-be99-3bef7f17d8d3"
      },
      "source": [
        "def f(number):\n",
        "  return number**2 \n",
        "def update_x(x,learning_rate):\n",
        "   a = x - learning_rate * 2 * x \n",
        "   return a \n",
        "def gadient_descent(x_pre,learning_rate):\n",
        "  x_next = update_x(x_pre,learning_rate)\n",
        "  list_f = []\n",
        "  list_f.append(f(x_next))\n",
        "  while (abs(f(x_next) - f(x_pre)) > 0.00001 )& (abs(f(x_next) - f(x_pre)< 1000)):\n",
        "    x_pre = x_next \n",
        "    x_next = update_x(x_pre,learning_rate)\n",
        "    list_f.append(f(x_next))\n",
        "  return list_f\n",
        "\n",
        "plt.plot(gadient_descent(2,0.2),'r')\n",
        "plt.show()"
      ],
      "execution_count": 40,
      "outputs": [
        {
          "output_type": "display_data",
          "data": {
            "image/png": "[encoded data removed]",
            "text/plain": [
              "<Figure size 432x288 with 1 Axes>"
            ]
          },
          "metadata": {
            "needs_background": "light"
          }
        }
      ]
    },
    {
      "cell_type": "code",
      "metadata": {
        "colab": {
          "base_uri": "https://localhost:8080/",
          "height": 282
        },
        "id": "mVjQG4oc8z3g",
        "outputId": "97647afe-cbd8-4ae8-ec17-e16cc014a66a"
      },
      "source": [
        "plt.plot(gadient_descent(2,1),'b')\n",
        "print(gadient_descent(2,1))"
      ],
      "execution_count": 37,
      "outputs": [
        {
          "output_type": "stream",
          "name": "stdout",
          "text": [
            "[4]\n"
          ]
        },
        {
          "output_type": "display_data",
          "data": {
            "image/png": "[encoded data removed]",
            "text/plain": [
              "<Figure size 432x288 with 1 Axes>"
            ]
          },
          "metadata": {
            "needs_background": "light"
          }
        }
      ]
    },
    {
      "cell_type": "code",
      "metadata": {
        "colab": {
          "base_uri": "https://localhost:8080/",
          "height": 282
        },
        "id": "ejMTYIWDAu-j",
        "outputId": "6c33c312-30ea-4f19-9438-53b5e8865490"
      },
      "source": [
        "plt.plot(gadient_descent(2,2),'y')"
      ],
      "execution_count": 39,
      "outputs": [
        {
          "output_type": "execute_result",
          "data": {
            "text/plain": [
              "[<matplotlib.lines.Line2D at 0x7f02cc6ce750>]"
            ]
          },
          "metadata": {},
          "execution_count": 39
        },
        {
          "output_type": "display_data",
          "data": {
            "image/png": "[encoded data removed]",
            "text/plain": [
              "<Figure size 432x288 with 1 Axes>"
            ]
          },
          "metadata": {
            "needs_background": "light"
          }
        }
      ]
    }
  ]
}